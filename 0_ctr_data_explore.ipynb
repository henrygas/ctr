{
  "nbformat": 4,
  "nbformat_minor": 0,
  "metadata": {
    "colab": {
      "name": "0_ctr_data_explore.ipynb",
      "provenance": [],
      "collapsed_sections": [],
      "include_colab_link": true
    },
    "kernelspec": {
      "name": "python3",
      "display_name": "Python 3"
    },
    "accelerator": "GPU"
  },
  "cells": [
    {
      "cell_type": "markdown",
      "metadata": {
        "id": "view-in-github",
        "colab_type": "text"
      },
      "source": [
        "<a href=\"https://colab.research.google.com/github/henrygas/ctr/blob/master/0_ctr_data_explore.ipynb\" target=\"_parent\"><img src=\"https://colab.research.google.com/assets/colab-badge.svg\" alt=\"Open In Colab\"/></a>"
      ]
    },
    {
      "cell_type": "markdown",
      "metadata": {
        "id": "_kRopNKYLLVW",
        "colab_type": "text"
      },
      "source": [
        "## 0. 准备工作"
      ]
    },
    {
      "cell_type": "markdown",
      "metadata": {
        "id": "rACuQUQLL7K-",
        "colab_type": "text"
      },
      "source": [
        "### 0.1 在本地计算机上，先读取前10000条数据，并保存这批数据到csv中"
      ]
    },
    {
      "cell_type": "code",
      "metadata": {
        "id": "Qlbm7zd08GOz",
        "colab_type": "code",
        "outputId": "8362b9a0-6ba2-47f4-f815-c73aee9cc9c6",
        "colab": {}
      },
      "source": [
        "import pandas as pd\n",
        "\n",
        "data_path = \"./data/train.csv\"\n",
        "chunks = pd.read_csv(data_path, iterator=True)\n",
        "chunk = chunks.get_chunk(10000)\n",
        "print(type(chunk))\n",
        "print(chunk.info())\n"
      ],
      "execution_count": 0,
      "outputs": [
        {
          "output_type": "stream",
          "text": [
            "<class 'pandas.core.frame.DataFrame'>\n",
            "RangeIndex: 10000 entries, 0 to 9999\n",
            "Data columns (total 24 columns):\n",
            "id                  10000 non-null uint64\n",
            "click               10000 non-null int64\n",
            "hour                10000 non-null int64\n",
            "C1                  10000 non-null int64\n",
            "banner_pos          10000 non-null int64\n",
            "site_id             10000 non-null object\n",
            "site_domain         10000 non-null object\n",
            "site_category       10000 non-null object\n",
            "app_id              10000 non-null object\n",
            "app_domain          10000 non-null object\n",
            "app_category        10000 non-null object\n",
            "device_id           10000 non-null object\n",
            "device_ip           10000 non-null object\n",
            "device_model        10000 non-null object\n",
            "device_type         10000 non-null int64\n",
            "device_conn_type    10000 non-null int64\n",
            "C14                 10000 non-null int64\n",
            "C15                 10000 non-null int64\n",
            "C16                 10000 non-null int64\n",
            "C17                 10000 non-null int64\n",
            "C18                 10000 non-null int64\n",
            "C19                 10000 non-null int64\n",
            "C20                 10000 non-null int64\n",
            "C21                 10000 non-null int64\n",
            "dtypes: int64(14), object(9), uint64(1)\n",
            "memory usage: 1.8+ MB\n",
            "None\n"
          ],
          "name": "stdout"
        }
      ]
    },
    {
      "cell_type": "code",
      "metadata": {
        "id": "mtCL9XqNKxqD",
        "colab_type": "code",
        "colab": {}
      },
      "source": [
        "data_part_path = \"./data/train_part.csv\"\n",
        "chunk.to_csv(data_part_path, index=False, header=True)\n"
      ],
      "execution_count": 0,
      "outputs": []
    },
    {
      "cell_type": "markdown",
      "metadata": {
        "id": "wf-8JWJ6MDsg",
        "colab_type": "text"
      },
      "source": [
        "### 0.2 挂载Google云盘"
      ]
    },
    {
      "cell_type": "code",
      "metadata": {
        "id": "hrWxFkClMHBE",
        "colab_type": "code",
        "outputId": "0734811f-a8e5-40ae-bea9-32985bef940d",
        "colab": {
          "base_uri": "https://localhost:8080/",
          "height": 35
        }
      },
      "source": [
        "from google.colab import drive\n",
        "drive.mount(\"/content/drive\")"
      ],
      "execution_count": 1,
      "outputs": [
        {
          "output_type": "stream",
          "text": [
            "Drive already mounted at /content/drive; to attempt to forcibly remount, call drive.mount(\"/content/drive\", force_remount=True).\n"
          ],
          "name": "stdout"
        }
      ]
    },
    {
      "cell_type": "markdown",
      "metadata": {
        "id": "ECQzsW9nMoOq",
        "colab_type": "text"
      },
      "source": [
        "### 0.3 定位当前工作目录"
      ]
    },
    {
      "cell_type": "code",
      "metadata": {
        "id": "HR-b53PNMqHb",
        "colab_type": "code",
        "colab": {}
      },
      "source": [
        "import os\n",
        "os.chdir(\"./drive/My Drive/app/ctr\")"
      ],
      "execution_count": 0,
      "outputs": []
    },
    {
      "cell_type": "code",
      "metadata": {
        "id": "SWIFjlxjMvt1",
        "colab_type": "code",
        "outputId": "62fbb33e-723c-4f9b-f3fc-2cf1cea4be37",
        "colab": {
          "base_uri": "https://localhost:8080/",
          "height": 35
        }
      },
      "source": [
        "!ls"
      ],
      "execution_count": 4,
      "outputs": [
        {
          "output_type": "stream",
          "text": [
            "data  model  out\n"
          ],
          "name": "stdout"
        }
      ]
    },
    {
      "cell_type": "markdown",
      "metadata": {
        "id": "Z7RTYy5FLgHu",
        "colab_type": "text"
      },
      "source": [
        "## 1. 数据探索"
      ]
    },
    {
      "cell_type": "markdown",
      "metadata": {
        "id": "Aq9a3bwPLkVl",
        "colab_type": "text"
      },
      "source": [
        "### 1.1 读取train_part.csv数据，并查看基本信息"
      ]
    },
    {
      "cell_type": "code",
      "metadata": {
        "id": "_OTolv4wKxqH",
        "colab_type": "code",
        "colab": {}
      },
      "source": [
        "import pandas as pd\n",
        "import numpy as np\n",
        "import seaborn as sns\n",
        "import matplotlib.pyplot as plt\n",
        "%matplotlib inline"
      ],
      "execution_count": 0,
      "outputs": []
    },
    {
      "cell_type": "code",
      "metadata": {
        "id": "JCF4PtdDNTwZ",
        "colab_type": "code",
        "colab": {}
      },
      "source": [
        "data_part_path = \"./data/train_part.csv\"\n",
        "train_data = pd.read_csv(data_part_path)"
      ],
      "execution_count": 0,
      "outputs": []
    },
    {
      "cell_type": "code",
      "metadata": {
        "id": "fxrIbKXDNa9V",
        "colab_type": "code",
        "outputId": "de2daf15-2f9d-42b7-c128-af3594b6b9a3",
        "colab": {
          "base_uri": "https://localhost:8080/",
          "height": 224
        }
      },
      "source": [
        "train_data.head()"
      ],
      "execution_count": 7,
      "outputs": [
        {
          "output_type": "execute_result",
          "data": {
            "text/html": [
              "<div>\n",
              "<style scoped>\n",
              "    .dataframe tbody tr th:only-of-type {\n",
              "        vertical-align: middle;\n",
              "    }\n",
              "\n",
              "    .dataframe tbody tr th {\n",
              "        vertical-align: top;\n",
              "    }\n",
              "\n",
              "    .dataframe thead th {\n",
              "        text-align: right;\n",
              "    }\n",
              "</style>\n",
              "<table border=\"1\" class=\"dataframe\">\n",
              "  <thead>\n",
              "    <tr style=\"text-align: right;\">\n",
              "      <th></th>\n",
              "      <th>id</th>\n",
              "      <th>click</th>\n",
              "      <th>hour</th>\n",
              "      <th>C1</th>\n",
              "      <th>banner_pos</th>\n",
              "      <th>site_id</th>\n",
              "      <th>site_domain</th>\n",
              "      <th>site_category</th>\n",
              "      <th>app_id</th>\n",
              "      <th>app_domain</th>\n",
              "      <th>app_category</th>\n",
              "      <th>device_id</th>\n",
              "      <th>device_ip</th>\n",
              "      <th>device_model</th>\n",
              "      <th>device_type</th>\n",
              "      <th>device_conn_type</th>\n",
              "      <th>C14</th>\n",
              "      <th>C15</th>\n",
              "      <th>C16</th>\n",
              "      <th>C17</th>\n",
              "      <th>C18</th>\n",
              "      <th>C19</th>\n",
              "      <th>C20</th>\n",
              "      <th>C21</th>\n",
              "    </tr>\n",
              "  </thead>\n",
              "  <tbody>\n",
              "    <tr>\n",
              "      <th>0</th>\n",
              "      <td>1000009418151094273</td>\n",
              "      <td>0</td>\n",
              "      <td>14102100</td>\n",
              "      <td>1005</td>\n",
              "      <td>0</td>\n",
              "      <td>1fbe01fe</td>\n",
              "      <td>f3845767</td>\n",
              "      <td>28905ebd</td>\n",
              "      <td>ecad2386</td>\n",
              "      <td>7801e8d9</td>\n",
              "      <td>07d7df22</td>\n",
              "      <td>a99f214a</td>\n",
              "      <td>ddd2926e</td>\n",
              "      <td>44956a24</td>\n",
              "      <td>1</td>\n",
              "      <td>2</td>\n",
              "      <td>15706</td>\n",
              "      <td>320</td>\n",
              "      <td>50</td>\n",
              "      <td>1722</td>\n",
              "      <td>0</td>\n",
              "      <td>35</td>\n",
              "      <td>-1</td>\n",
              "      <td>79</td>\n",
              "    </tr>\n",
              "    <tr>\n",
              "      <th>1</th>\n",
              "      <td>10000169349117863715</td>\n",
              "      <td>0</td>\n",
              "      <td>14102100</td>\n",
              "      <td>1005</td>\n",
              "      <td>0</td>\n",
              "      <td>1fbe01fe</td>\n",
              "      <td>f3845767</td>\n",
              "      <td>28905ebd</td>\n",
              "      <td>ecad2386</td>\n",
              "      <td>7801e8d9</td>\n",
              "      <td>07d7df22</td>\n",
              "      <td>a99f214a</td>\n",
              "      <td>96809ac8</td>\n",
              "      <td>711ee120</td>\n",
              "      <td>1</td>\n",
              "      <td>0</td>\n",
              "      <td>15704</td>\n",
              "      <td>320</td>\n",
              "      <td>50</td>\n",
              "      <td>1722</td>\n",
              "      <td>0</td>\n",
              "      <td>35</td>\n",
              "      <td>100084</td>\n",
              "      <td>79</td>\n",
              "    </tr>\n",
              "    <tr>\n",
              "      <th>2</th>\n",
              "      <td>10000371904215119486</td>\n",
              "      <td>0</td>\n",
              "      <td>14102100</td>\n",
              "      <td>1005</td>\n",
              "      <td>0</td>\n",
              "      <td>1fbe01fe</td>\n",
              "      <td>f3845767</td>\n",
              "      <td>28905ebd</td>\n",
              "      <td>ecad2386</td>\n",
              "      <td>7801e8d9</td>\n",
              "      <td>07d7df22</td>\n",
              "      <td>a99f214a</td>\n",
              "      <td>b3cf8def</td>\n",
              "      <td>8a4875bd</td>\n",
              "      <td>1</td>\n",
              "      <td>0</td>\n",
              "      <td>15704</td>\n",
              "      <td>320</td>\n",
              "      <td>50</td>\n",
              "      <td>1722</td>\n",
              "      <td>0</td>\n",
              "      <td>35</td>\n",
              "      <td>100084</td>\n",
              "      <td>79</td>\n",
              "    </tr>\n",
              "    <tr>\n",
              "      <th>3</th>\n",
              "      <td>10000640724480838376</td>\n",
              "      <td>0</td>\n",
              "      <td>14102100</td>\n",
              "      <td>1005</td>\n",
              "      <td>0</td>\n",
              "      <td>1fbe01fe</td>\n",
              "      <td>f3845767</td>\n",
              "      <td>28905ebd</td>\n",
              "      <td>ecad2386</td>\n",
              "      <td>7801e8d9</td>\n",
              "      <td>07d7df22</td>\n",
              "      <td>a99f214a</td>\n",
              "      <td>e8275b8f</td>\n",
              "      <td>6332421a</td>\n",
              "      <td>1</td>\n",
              "      <td>0</td>\n",
              "      <td>15706</td>\n",
              "      <td>320</td>\n",
              "      <td>50</td>\n",
              "      <td>1722</td>\n",
              "      <td>0</td>\n",
              "      <td>35</td>\n",
              "      <td>100084</td>\n",
              "      <td>79</td>\n",
              "    </tr>\n",
              "    <tr>\n",
              "      <th>4</th>\n",
              "      <td>10000679056417042096</td>\n",
              "      <td>0</td>\n",
              "      <td>14102100</td>\n",
              "      <td>1005</td>\n",
              "      <td>1</td>\n",
              "      <td>fe8cc448</td>\n",
              "      <td>9166c161</td>\n",
              "      <td>0569f928</td>\n",
              "      <td>ecad2386</td>\n",
              "      <td>7801e8d9</td>\n",
              "      <td>07d7df22</td>\n",
              "      <td>a99f214a</td>\n",
              "      <td>9644d0bf</td>\n",
              "      <td>779d90c2</td>\n",
              "      <td>1</td>\n",
              "      <td>0</td>\n",
              "      <td>18993</td>\n",
              "      <td>320</td>\n",
              "      <td>50</td>\n",
              "      <td>2161</td>\n",
              "      <td>0</td>\n",
              "      <td>35</td>\n",
              "      <td>-1</td>\n",
              "      <td>157</td>\n",
              "    </tr>\n",
              "  </tbody>\n",
              "</table>\n",
              "</div>"
            ],
            "text/plain": [
              "                     id  click      hour    C1  ...  C18 C19     C20  C21\n",
              "0   1000009418151094273      0  14102100  1005  ...    0  35      -1   79\n",
              "1  10000169349117863715      0  14102100  1005  ...    0  35  100084   79\n",
              "2  10000371904215119486      0  14102100  1005  ...    0  35  100084   79\n",
              "3  10000640724480838376      0  14102100  1005  ...    0  35  100084   79\n",
              "4  10000679056417042096      0  14102100  1005  ...    0  35      -1  157\n",
              "\n",
              "[5 rows x 24 columns]"
            ]
          },
          "metadata": {
            "tags": []
          },
          "execution_count": 7
        }
      ]
    },
    {
      "cell_type": "code",
      "metadata": {
        "id": "RUsxx-1uNgPR",
        "colab_type": "code",
        "outputId": "fb6e2144-9695-4078-c14e-905086575744",
        "colab": {
          "base_uri": "https://localhost:8080/",
          "height": 539
        }
      },
      "source": [
        "train_data.info()"
      ],
      "execution_count": 8,
      "outputs": [
        {
          "output_type": "stream",
          "text": [
            "<class 'pandas.core.frame.DataFrame'>\n",
            "RangeIndex: 10000 entries, 0 to 9999\n",
            "Data columns (total 24 columns):\n",
            "id                  10000 non-null uint64\n",
            "click               10000 non-null int64\n",
            "hour                10000 non-null int64\n",
            "C1                  10000 non-null int64\n",
            "banner_pos          10000 non-null int64\n",
            "site_id             10000 non-null object\n",
            "site_domain         10000 non-null object\n",
            "site_category       10000 non-null object\n",
            "app_id              10000 non-null object\n",
            "app_domain          10000 non-null object\n",
            "app_category        10000 non-null object\n",
            "device_id           10000 non-null object\n",
            "device_ip           10000 non-null object\n",
            "device_model        10000 non-null object\n",
            "device_type         10000 non-null int64\n",
            "device_conn_type    10000 non-null int64\n",
            "C14                 10000 non-null int64\n",
            "C15                 10000 non-null int64\n",
            "C16                 10000 non-null int64\n",
            "C17                 10000 non-null int64\n",
            "C18                 10000 non-null int64\n",
            "C19                 10000 non-null int64\n",
            "C20                 10000 non-null int64\n",
            "C21                 10000 non-null int64\n",
            "dtypes: int64(14), object(9), uint64(1)\n",
            "memory usage: 1.8+ MB\n"
          ],
          "name": "stdout"
        }
      ]
    },
    {
      "cell_type": "markdown",
      "metadata": {
        "id": "YKv5InRMNiaD",
        "colab_type": "text"
      },
      "source": [
        "共计有24列，其中click列为标签，其他列均为特征；在特征列中，int64类型有14列，object类型有9列，uint64类型有1列(id，属于无意义的列)"
      ]
    },
    {
      "cell_type": "code",
      "metadata": {
        "id": "Q1d09I4VN9lf",
        "colab_type": "code",
        "outputId": "2035f83a-9655-4410-c772-02912d5571c7",
        "colab": {
          "base_uri": "https://localhost:8080/",
          "height": 317
        }
      },
      "source": [
        "train_data.describe()"
      ],
      "execution_count": 9,
      "outputs": [
        {
          "output_type": "execute_result",
          "data": {
            "text/html": [
              "<div>\n",
              "<style scoped>\n",
              "    .dataframe tbody tr th:only-of-type {\n",
              "        vertical-align: middle;\n",
              "    }\n",
              "\n",
              "    .dataframe tbody tr th {\n",
              "        vertical-align: top;\n",
              "    }\n",
              "\n",
              "    .dataframe thead th {\n",
              "        text-align: right;\n",
              "    }\n",
              "</style>\n",
              "<table border=\"1\" class=\"dataframe\">\n",
              "  <thead>\n",
              "    <tr style=\"text-align: right;\">\n",
              "      <th></th>\n",
              "      <th>id</th>\n",
              "      <th>click</th>\n",
              "      <th>hour</th>\n",
              "      <th>C1</th>\n",
              "      <th>banner_pos</th>\n",
              "      <th>device_type</th>\n",
              "      <th>device_conn_type</th>\n",
              "      <th>C14</th>\n",
              "      <th>C15</th>\n",
              "      <th>C16</th>\n",
              "      <th>C17</th>\n",
              "      <th>C18</th>\n",
              "      <th>C19</th>\n",
              "      <th>C20</th>\n",
              "      <th>C21</th>\n",
              "    </tr>\n",
              "  </thead>\n",
              "  <tbody>\n",
              "    <tr>\n",
              "      <th>count</th>\n",
              "      <td>1.000000e+04</td>\n",
              "      <td>10000.000000</td>\n",
              "      <td>10000.0</td>\n",
              "      <td>10000.000000</td>\n",
              "      <td>10000.000000</td>\n",
              "      <td>10000.000000</td>\n",
              "      <td>10000.000000</td>\n",
              "      <td>10000.000000</td>\n",
              "      <td>10000.000000</td>\n",
              "      <td>10000.000000</td>\n",
              "      <td>10000.000000</td>\n",
              "      <td>10000.000000</td>\n",
              "      <td>10000.000000</td>\n",
              "      <td>10000.000000</td>\n",
              "      <td>10000.000000</td>\n",
              "    </tr>\n",
              "    <tr>\n",
              "      <th>mean</th>\n",
              "      <td>9.795641e+18</td>\n",
              "      <td>0.170600</td>\n",
              "      <td>14102100.0</td>\n",
              "      <td>1005.059900</td>\n",
              "      <td>0.195900</td>\n",
              "      <td>1.068200</td>\n",
              "      <td>0.204500</td>\n",
              "      <td>17711.693800</td>\n",
              "      <td>318.478000</td>\n",
              "      <td>56.986400</td>\n",
              "      <td>1967.605900</td>\n",
              "      <td>0.789500</td>\n",
              "      <td>125.622400</td>\n",
              "      <td>37746.299500</td>\n",
              "      <td>88.260300</td>\n",
              "    </tr>\n",
              "    <tr>\n",
              "      <th>std</th>\n",
              "      <td>2.853038e+18</td>\n",
              "      <td>0.376178</td>\n",
              "      <td>0.0</td>\n",
              "      <td>1.103193</td>\n",
              "      <td>0.404895</td>\n",
              "      <td>0.601984</td>\n",
              "      <td>0.646469</td>\n",
              "      <td>3139.296362</td>\n",
              "      <td>11.492429</td>\n",
              "      <td>37.425508</td>\n",
              "      <td>385.160315</td>\n",
              "      <td>1.228878</td>\n",
              "      <td>234.039047</td>\n",
              "      <td>48516.401341</td>\n",
              "      <td>45.153569</td>\n",
              "    </tr>\n",
              "    <tr>\n",
              "      <th>min</th>\n",
              "      <td>1.004777e+16</td>\n",
              "      <td>0.000000</td>\n",
              "      <td>14102100.0</td>\n",
              "      <td>1001.000000</td>\n",
              "      <td>0.000000</td>\n",
              "      <td>0.000000</td>\n",
              "      <td>0.000000</td>\n",
              "      <td>375.000000</td>\n",
              "      <td>216.000000</td>\n",
              "      <td>36.000000</td>\n",
              "      <td>112.000000</td>\n",
              "      <td>0.000000</td>\n",
              "      <td>35.000000</td>\n",
              "      <td>-1.000000</td>\n",
              "      <td>13.000000</td>\n",
              "    </tr>\n",
              "    <tr>\n",
              "      <th>25%</th>\n",
              "      <td>1.024754e+19</td>\n",
              "      <td>0.000000</td>\n",
              "      <td>14102100.0</td>\n",
              "      <td>1005.000000</td>\n",
              "      <td>0.000000</td>\n",
              "      <td>1.000000</td>\n",
              "      <td>0.000000</td>\n",
              "      <td>15704.000000</td>\n",
              "      <td>320.000000</td>\n",
              "      <td>50.000000</td>\n",
              "      <td>1722.000000</td>\n",
              "      <td>0.000000</td>\n",
              "      <td>35.000000</td>\n",
              "      <td>-1.000000</td>\n",
              "      <td>61.000000</td>\n",
              "    </tr>\n",
              "    <tr>\n",
              "      <th>50%</th>\n",
              "      <td>1.063018e+19</td>\n",
              "      <td>0.000000</td>\n",
              "      <td>14102100.0</td>\n",
              "      <td>1005.000000</td>\n",
              "      <td>0.000000</td>\n",
              "      <td>1.000000</td>\n",
              "      <td>0.000000</td>\n",
              "      <td>17654.000000</td>\n",
              "      <td>320.000000</td>\n",
              "      <td>50.000000</td>\n",
              "      <td>1993.000000</td>\n",
              "      <td>0.000000</td>\n",
              "      <td>35.000000</td>\n",
              "      <td>-1.000000</td>\n",
              "      <td>79.000000</td>\n",
              "    </tr>\n",
              "    <tr>\n",
              "      <th>75%</th>\n",
              "      <td>1.100749e+19</td>\n",
              "      <td>0.000000</td>\n",
              "      <td>14102100.0</td>\n",
              "      <td>1005.000000</td>\n",
              "      <td>0.000000</td>\n",
              "      <td>1.000000</td>\n",
              "      <td>0.000000</td>\n",
              "      <td>20362.000000</td>\n",
              "      <td>320.000000</td>\n",
              "      <td>50.000000</td>\n",
              "      <td>2307.000000</td>\n",
              "      <td>2.000000</td>\n",
              "      <td>39.000000</td>\n",
              "      <td>100083.000000</td>\n",
              "      <td>117.000000</td>\n",
              "    </tr>\n",
              "    <tr>\n",
              "      <th>max</th>\n",
              "      <td>1.138513e+19</td>\n",
              "      <td>1.000000</td>\n",
              "      <td>14102100.0</td>\n",
              "      <td>1010.000000</td>\n",
              "      <td>5.000000</td>\n",
              "      <td>5.000000</td>\n",
              "      <td>5.000000</td>\n",
              "      <td>21705.000000</td>\n",
              "      <td>728.000000</td>\n",
              "      <td>480.000000</td>\n",
              "      <td>2497.000000</td>\n",
              "      <td>3.000000</td>\n",
              "      <td>1835.000000</td>\n",
              "      <td>100248.000000</td>\n",
              "      <td>157.000000</td>\n",
              "    </tr>\n",
              "  </tbody>\n",
              "</table>\n",
              "</div>"
            ],
            "text/plain": [
              "                 id         click  ...            C20           C21\n",
              "count  1.000000e+04  10000.000000  ...   10000.000000  10000.000000\n",
              "mean   9.795641e+18      0.170600  ...   37746.299500     88.260300\n",
              "std    2.853038e+18      0.376178  ...   48516.401341     45.153569\n",
              "min    1.004777e+16      0.000000  ...      -1.000000     13.000000\n",
              "25%    1.024754e+19      0.000000  ...      -1.000000     61.000000\n",
              "50%    1.063018e+19      0.000000  ...      -1.000000     79.000000\n",
              "75%    1.100749e+19      0.000000  ...  100083.000000    117.000000\n",
              "max    1.138513e+19      1.000000  ...  100248.000000    157.000000\n",
              "\n",
              "[8 rows x 15 columns]"
            ]
          },
          "metadata": {
            "tags": []
          },
          "execution_count": 9
        }
      ]
    },
    {
      "cell_type": "markdown",
      "metadata": {
        "id": "9pTItqTUOCVG",
        "colab_type": "text"
      },
      "source": [
        "从统计信息里可以看出：\n",
        "+ click,banner_pos,device_conn_type的分位数均为0，说明是稀疏的，只有少量非零值；\n",
        "+ hour均为同一取值，可能原始数据是按照时序排列的，所以只取头部数据，可能会忽略hour这个特征；\n",
        "+ C14~C21列的方差都比较大, 说明取值离散性比较大；\n",
        "+ device_type的分位数均为1.000000,说明大部分样本的device_type取值都集中在取值1上，其他的取值较少。"
      ]
    },
    {
      "cell_type": "markdown",
      "metadata": {
        "id": "CCvFfjciPxdb",
        "colab_type": "text"
      },
      "source": [
        "### 1.2 观察类别型特征的统计数据"
      ]
    },
    {
      "cell_type": "code",
      "metadata": {
        "id": "3znRYZawP74U",
        "colab_type": "code",
        "outputId": "7517ef36-f538-4b1d-ca86-f33f94316771",
        "colab": {
          "base_uri": "https://localhost:8080/",
          "height": 71
        }
      },
      "source": [
        "train_data.click.value_counts()"
      ],
      "execution_count": 10,
      "outputs": [
        {
          "output_type": "execute_result",
          "data": {
            "text/plain": [
              "0    8294\n",
              "1    1706\n",
              "Name: click, dtype: int64"
            ]
          },
          "metadata": {
            "tags": []
          },
          "execution_count": 10
        }
      ]
    },
    {
      "cell_type": "markdown",
      "metadata": {
        "id": "TGEscqzSQTj9",
        "colab_type": "text"
      },
      "source": [
        "10000个样本里，只有1706个click=1，剩余的都是未被点击过的"
      ]
    },
    {
      "cell_type": "code",
      "metadata": {
        "id": "FnjoJ9kHQeCo",
        "colab_type": "code",
        "outputId": "e405c565-ccc6-443e-a2b3-001e6c9278aa",
        "colab": {
          "base_uri": "https://localhost:8080/",
          "height": 35
        }
      },
      "source": [
        "c_name_list = [\"C1\"]\n",
        "for i in range(14, 22):\n",
        "  c_name_list.append(\"C{}\".format(i))\n",
        "c_name_list"
      ],
      "execution_count": 11,
      "outputs": [
        {
          "output_type": "execute_result",
          "data": {
            "text/plain": [
              "['C1', 'C14', 'C15', 'C16', 'C17', 'C18', 'C19', 'C20', 'C21']"
            ]
          },
          "metadata": {
            "tags": []
          },
          "execution_count": 11
        }
      ]
    },
    {
      "cell_type": "code",
      "metadata": {
        "id": "S_k8tjG3Q8Lg",
        "colab_type": "code",
        "outputId": "cdc69407-513c-43b4-bea3-8a32dbc74fa1",
        "colab": {
          "base_uri": "https://localhost:8080/",
          "height": 1000
        }
      },
      "source": [
        "# plt.figure(figsize=(8, 120))\n",
        "for c_name in c_name_list:\n",
        "  train_data.hist(column=c_name, bins=20, grid=False)"
      ],
      "execution_count": 12,
      "outputs": [
        {
          "output_type": "display_data",
          "data": {
            "image/png": "[encoded data removed]",
            "text/plain": [
              "<Figure size 432x288 with 1 Axes>"
            ]
          },
          "metadata": {
            "tags": []
          }
        },
        {
          "output_type": "display_data",
          "data": {
            "image/png": "[encoded data removed]",
            "text/plain": [
              "<Figure size 432x288 with 1 Axes>"
            ]
          },
          "metadata": {
            "tags": []
          }
        },
        {
          "output_type": "display_data",
          "data": {
            "image/png": "[encoded data removed]",
            "text/plain": [
              "<Figure size 432x288 with 1 Axes>"
            ]
          },
          "metadata": {
            "tags": []
          }
        },
        {
          "output_type": "display_data",
          "data": {
            "image/png": "[encoded data removed]",
            "text/plain": [
              "<Figure size 432x288 with 1 Axes>"
            ]
          },
          "metadata": {
            "tags": []
          }
        },
        {
          "output_type": "display_data",
          "data": {
            "image/png": "[encoded data removed]",
            "text/plain": [
              "<Figure size 432x288 with 1 Axes>"
            ]
          },
          "metadata": {
            "tags": []
          }
        },
        {
          "output_type": "display_data",
          "data": {
            "image/png": "[encoded data removed]",
            "text/plain": [
              "<Figure size 432x288 with 1 Axes>"
            ]
          },
          "metadata": {
            "tags": []
          }
        },
        {
          "output_type": "display_data",
          "data": {
            "image/png": "[encoded data removed]",
            "text/plain": [
              "<Figure size 432x288 with 1 Axes>"
            ]
          },
          "metadata": {
            "tags": []
          }
        },
        {
          "output_type": "display_data",
          "data": {
            "image/png": "[encoded data removed]",
            "text/plain": [
              "<Figure size 432x288 with 1 Axes>"
            ]
          },
          "metadata": {
            "tags": []
          }
        },
        {
          "output_type": "display_data",
          "data": {
            "image/png": "[encoded data removed]",
            "text/plain": [
              "<Figure size 432x288 with 1 Axes>"
            ]
          },
          "metadata": {
            "tags": []
          }
        }
      ]
    },
    {
      "cell_type": "markdown",
      "metadata": {
        "id": "BZMwxryORFuv",
        "colab_type": "text"
      },
      "source": [
        "可以看到，以C开头的几个类别型特征，其取值都较为不均衡，集中在少量的几个取值上。"
      ]
    },
    {
      "cell_type": "markdown",
      "metadata": {
        "id": "KKDSXV2aRUe1",
        "colab_type": "text"
      },
      "source": [
        "### 1.3 研究每个单个特征与标签的关系"
      ]
    },
    {
      "cell_type": "code",
      "metadata": {
        "id": "WOC_KwGRRfGP",
        "colab_type": "code",
        "colab": {
          "base_uri": "https://localhost:8080/",
          "height": 467
        },
        "outputId": "3b602b00-d91b-41a9-cf8d-2f9554d794f9"
      },
      "source": [
        "train_data.isnull().sum()"
      ],
      "execution_count": 13,
      "outputs": [
        {
          "output_type": "execute_result",
          "data": {
            "text/plain": [
              "id                  0\n",
              "click               0\n",
              "hour                0\n",
              "C1                  0\n",
              "banner_pos          0\n",
              "site_id             0\n",
              "site_domain         0\n",
              "site_category       0\n",
              "app_id              0\n",
              "app_domain          0\n",
              "app_category        0\n",
              "device_id           0\n",
              "device_ip           0\n",
              "device_model        0\n",
              "device_type         0\n",
              "device_conn_type    0\n",
              "C14                 0\n",
              "C15                 0\n",
              "C16                 0\n",
              "C17                 0\n",
              "C18                 0\n",
              "C19                 0\n",
              "C20                 0\n",
              "C21                 0\n",
              "dtype: int64"
            ]
          },
          "metadata": {
            "tags": []
          },
          "execution_count": 13
        }
      ]
    },
    {
      "cell_type": "markdown",
      "metadata": {
        "id": "jXMt4pm5hFcX",
        "colab_type": "text"
      },
      "source": [
        "可见没有缺失值"
      ]
    },
    {
      "cell_type": "code",
      "metadata": {
        "id": "mrLwNazHhH5g",
        "colab_type": "code",
        "colab": {
          "base_uri": "https://localhost:8080/",
          "height": 387
        },
        "outputId": "39cd9cc3-fe92-4a00-c063-2165278b4ca0"
      },
      "source": [
        "sns.catplot(x=\"C1\", y=\"click\", data=train_data)"
      ],
      "execution_count": 15,
      "outputs": [
        {
          "output_type": "execute_result",
          "data": {
            "text/plain": [
              "<seaborn.axisgrid.FacetGrid at 0x7f67d6cc9f28>"
            ]
          },
          "metadata": {
            "tags": []
          },
          "execution_count": 15
        },
        {
          "output_type": "display_data",
          "data": {
            "image/png": "[encoded data removed]",
            "text/plain": [
              "<Figure size 360x360 with 1 Axes>"
            ]
          },
          "metadata": {
            "tags": []
          }
        }
      ]
    },
    {
      "cell_type": "code",
      "metadata": {
        "id": "CSsfTrJbig_I",
        "colab_type": "code",
        "colab": {
          "base_uri": "https://localhost:8080/",
          "height": 233
        },
        "outputId": "419f889c-83bd-4cde-cc14-4d8d723b7ea2"
      },
      "source": [
        "!pip install seaborn --upgrade"
      ],
      "execution_count": 69,
      "outputs": [
        {
          "output_type": "stream",
          "text": [
            "Requirement already up-to-date: seaborn in /usr/local/lib/python3.6/dist-packages (0.9.0)\n",
            "Requirement already satisfied, skipping upgrade: matplotlib>=1.4.3 in /usr/local/lib/python3.6/dist-packages (from seaborn) (3.1.1)\n",
            "Requirement already satisfied, skipping upgrade: pandas>=0.15.2 in /usr/local/lib/python3.6/dist-packages (from seaborn) (0.25.3)\n",
            "Requirement already satisfied, skipping upgrade: numpy>=1.9.3 in /usr/local/lib/python3.6/dist-packages (from seaborn) (1.17.4)\n",
            "Requirement already satisfied, skipping upgrade: scipy>=0.14.0 in /usr/local/lib/python3.6/dist-packages (from seaborn) (1.3.2)\n",
            "Requirement already satisfied, skipping upgrade: kiwisolver>=1.0.1 in /usr/local/lib/python3.6/dist-packages (from matplotlib>=1.4.3->seaborn) (1.1.0)\n",
            "Requirement already satisfied, skipping upgrade: python-dateutil>=2.1 in /usr/local/lib/python3.6/dist-packages (from matplotlib>=1.4.3->seaborn) (2.6.1)\n",
            "Requirement already satisfied, skipping upgrade: pyparsing!=2.0.4,!=2.1.2,!=2.1.6,>=2.0.1 in /usr/local/lib/python3.6/dist-packages (from matplotlib>=1.4.3->seaborn) (2.4.5)\n",
            "Requirement already satisfied, skipping upgrade: cycler>=0.10 in /usr/local/lib/python3.6/dist-packages (from matplotlib>=1.4.3->seaborn) (0.10.0)\n",
            "Requirement already satisfied, skipping upgrade: pytz>=2017.2 in /usr/local/lib/python3.6/dist-packages (from pandas>=0.15.2->seaborn) (2018.9)\n",
            "Requirement already satisfied, skipping upgrade: setuptools in /usr/local/lib/python3.6/dist-packages (from kiwisolver>=1.0.1->matplotlib>=1.4.3->seaborn) (41.6.0)\n",
            "Requirement already satisfied, skipping upgrade: six>=1.5 in /usr/local/lib/python3.6/dist-packages (from python-dateutil>=2.1->matplotlib>=1.4.3->seaborn) (1.12.0)\n"
          ],
          "name": "stdout"
        }
      ]
    },
    {
      "cell_type": "code",
      "metadata": {
        "id": "O9V-O1U6ikTG",
        "colab_type": "code",
        "colab": {
          "base_uri": "https://localhost:8080/",
          "height": 35
        },
        "outputId": "4b15241e-91d2-460e-beac-b4e4f703c2c5"
      },
      "source": [
        "import seaborn as sns\n",
        "sns.__version__"
      ],
      "execution_count": 70,
      "outputs": [
        {
          "output_type": "execute_result",
          "data": {
            "text/plain": [
              "'0.9.0'"
            ]
          },
          "metadata": {
            "tags": []
          },
          "execution_count": 70
        }
      ]
    }
  ]
}