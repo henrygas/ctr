{
 "cells": [
  {
   "cell_type": "markdown",
   "metadata": {
    "id": "view-in-github",
    "colab_type": "text"
   },
   "source": [
    "<a href=\"https://colab.research.google.com/github/henrygas/ctr/blob/master/0_ctr_data_explore.ipynb\" target=\"_parent\"><img src=\"https://colab.research.google.com/assets/colab-badge.svg\" alt=\"Open In Colab\"/></a>"
   ]
  },
  {
   "cell_type": "code",
   "execution_count": null,
   "metadata": {
    "id": "Qlbm7zd08GOz",
    "colab_type": "code",
    "colab": {}
   },
   "outputs": [
    {
     "name": "stdout",
     "output_type": "stream",
     "text": [
      "<class 'pandas.core.frame.DataFrame'>\nRangeIndex: 10000 entries, 0 to 9999\nData columns (total 24 columns):\nid                  10000 non-null uint64\nclick               10000 non-null int64\nhour                10000 non-null int64\nC1                  10000 non-null int64\nbanner_pos          10000 non-null int64\nsite_id             10000 non-null object\nsite_domain         10000 non-null object\nsite_category       10000 non-null object\napp_id              10000 non-null object\napp_domain          10000 non-null object\napp_category        10000 non-null object\ndevice_id           10000 non-null object\ndevice_ip           10000 non-null object\ndevice_model        10000 non-null object\ndevice_type         10000 non-null int64\ndevice_conn_type    10000 non-null int64\nC14                 10000 non-null int64\nC15                 10000 non-null int64\nC16                 10000 non-null int64\nC17                 10000 non-null int64\nC18                 10000 non-null int64\nC19                 10000 non-null int64\nC20                 10000 non-null int64\nC21                 10000 non-null int64\ndtypes: int64(14), object(9), uint64(1)\nmemory usage: 1.8+ MB\nNone\n"
     ]
    }
   ],
   "source": [
    "import pandas as pd\n",
    "\n",
    "data_path = \"./data/train.csv\"\n",
    "chunks = pd.read_csv(data_path, iterator=True)\n",
    "chunk = chunks.get_chunk(10000)\n",
    "print(type(chunk))\n",
    "print(chunk.info())\n"
   ]
  },
  {
   "cell_type": "code",
   "execution_count": 6,
   "metadata": {},
   "outputs": [],
   "source": [
    "data_part_path = \"./data/train_part.csv\"\n",
    "chunk.to_csv(data_part_path, index=False, header=True)\n"
   ]
  },
  {
   "cell_type": "code",
   "execution_count": null,
   "metadata": {},
   "outputs": [],
   "source": []
  }
 ],
 "metadata": {
  "colab": {
   "name": "0_ctr_data_explore.ipynb",
   "provenance": [],
   "include_colab_link": true
  },
  "kernelspec": {
   "name": "python3",
   "display_name": "Python 3"
  }
 },
 "nbformat": 4,
 "nbformat_minor": 0
}
