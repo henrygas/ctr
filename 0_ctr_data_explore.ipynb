{
  "nbformat": 4,
  "nbformat_minor": 0,
  "metadata": {
    "colab": {
      "name": "0_ctr_data_explore.ipynb",
      "provenance": [],
      "collapsed_sections": [],
      "include_colab_link": true
    },
    "kernelspec": {
      "name": "python3",
      "display_name": "Python 3"
    },
    "accelerator": "GPU"
  },
  "cells": [
    {
      "cell_type": "markdown",
      "metadata": {
        "id": "view-in-github",
        "colab_type": "text"
      },
      "source": [
        "<a href=\"https://colab.research.google.com/github/henrygas/ctr/blob/master/0_ctr_data_explore.ipynb\" target=\"_parent\"><img src=\"https://colab.research.google.com/assets/colab-badge.svg\" alt=\"Open In Colab\"/></a>"
      ]
    },
    {
      "cell_type": "markdown",
      "metadata": {
        "id": "_kRopNKYLLVW",
        "colab_type": "text"
      },
      "source": [
        "## 0. 准备工作"
      ]
    },
    {
      "cell_type": "markdown",
      "metadata": {
        "id": "rACuQUQLL7K-",
        "colab_type": "text"
      },
      "source": [
        "### 0.1 在本地计算机上，先读取前10000条数据，并保存这批数据到csv中"
      ]
    },
    {
      "cell_type": "code",
      "metadata": {
        "id": "Qlbm7zd08GOz",
        "colab_type": "code",
        "colab": {},
        "outputId": "8362b9a0-6ba2-47f4-f815-c73aee9cc9c6"
      },
      "source": [
        "import pandas as pd\n",
        "\n",
        "data_path = \"./data/train.csv\"\n",
        "chunks = pd.read_csv(data_path, iterator=True)\n",
        "chunk = chunks.get_chunk(10000)\n",
        "print(type(chunk))\n",
        "print(chunk.info())\n"
      ],
      "execution_count": 0,
      "outputs": [
        {
          "output_type": "stream",
          "text": [
            "<class 'pandas.core.frame.DataFrame'>\n",
            "RangeIndex: 10000 entries, 0 to 9999\n",
            "Data columns (total 24 columns):\n",
            "id                  10000 non-null uint64\n",
            "click               10000 non-null int64\n",
            "hour                10000 non-null int64\n",
            "C1                  10000 non-null int64\n",
            "banner_pos          10000 non-null int64\n",
            "site_id             10000 non-null object\n",
            "site_domain         10000 non-null object\n",
            "site_category       10000 non-null object\n",
            "app_id              10000 non-null object\n",
            "app_domain          10000 non-null object\n",
            "app_category        10000 non-null object\n",
            "device_id           10000 non-null object\n",
            "device_ip           10000 non-null object\n",
            "device_model        10000 non-null object\n",
            "device_type         10000 non-null int64\n",
            "device_conn_type    10000 non-null int64\n",
            "C14                 10000 non-null int64\n",
            "C15                 10000 non-null int64\n",
            "C16                 10000 non-null int64\n",
            "C17                 10000 non-null int64\n",
            "C18                 10000 non-null int64\n",
            "C19                 10000 non-null int64\n",
            "C20                 10000 non-null int64\n",
            "C21                 10000 non-null int64\n",
            "dtypes: int64(14), object(9), uint64(1)\n",
            "memory usage: 1.8+ MB\n",
            "None\n"
          ],
          "name": "stdout"
        }
      ]
    },
    {
      "cell_type": "code",
      "metadata": {
        "id": "mtCL9XqNKxqD",
        "colab_type": "code",
        "colab": {}
      },
      "source": [
        "data_part_path = \"./data/train_part.csv\"\n",
        "chunk.to_csv(data_part_path, index=False, header=True)\n"
      ],
      "execution_count": 0,
      "outputs": []
    },
    {
      "cell_type": "markdown",
      "metadata": {
        "id": "wf-8JWJ6MDsg",
        "colab_type": "text"
      },
      "source": [
        "### 0.2 挂载Google云盘"
      ]
    },
    {
      "cell_type": "code",
      "metadata": {
        "id": "hrWxFkClMHBE",
        "colab_type": "code",
        "colab": {
          "base_uri": "https://localhost:8080/",
          "height": 127
        },
        "outputId": "bf55aa4e-3d28-4f3a-80f8-ea3c4acff2fa"
      },
      "source": [
        "from google.colab import drive\n",
        "drive.mount(\"/content/drive\")"
      ],
      "execution_count": 1,
      "outputs": [
        {
          "output_type": "stream",
          "text": [
            "Go to this URL in a browser: https://accounts.google.com/o/oauth2/auth?client_id=947318989803-6bn6qk8qdgf4n4g3pfee6491hc0brc4i.apps.googleusercontent.com&redirect_uri=urn%3aietf%3awg%3aoauth%3a2.0%3aoob&response_type=code&scope=email%20https%3a%2f%2fwww.googleapis.com%2fauth%2fdocs.test%20https%3a%2f%2fwww.googleapis.com%2fauth%2fdrive%20https%3a%2f%2fwww.googleapis.com%2fauth%2fdrive.photos.readonly%20https%3a%2f%2fwww.googleapis.com%2fauth%2fpeopleapi.readonly\n",
            "\n",
            "Enter your authorization code:\n",
            "··········\n",
            "Mounted at /content/drive\n"
          ],
          "name": "stdout"
        }
      ]
    },
    {
      "cell_type": "markdown",
      "metadata": {
        "id": "ECQzsW9nMoOq",
        "colab_type": "text"
      },
      "source": [
        "### 0.3 定位当前工作目录"
      ]
    },
    {
      "cell_type": "code",
      "metadata": {
        "id": "HR-b53PNMqHb",
        "colab_type": "code",
        "colab": {}
      },
      "source": [
        "import os\n",
        "os.chdir(\"./drive/My Drive/app/ctr\")"
      ],
      "execution_count": 0,
      "outputs": []
    },
    {
      "cell_type": "code",
      "metadata": {
        "id": "SWIFjlxjMvt1",
        "colab_type": "code",
        "colab": {
          "base_uri": "https://localhost:8080/",
          "height": 35
        },
        "outputId": "df3bc7d2-e334-47b0-da00-69fa57dc41ce"
      },
      "source": [
        "!ls"
      ],
      "execution_count": 3,
      "outputs": [
        {
          "output_type": "stream",
          "text": [
            "data  model  out\n"
          ],
          "name": "stdout"
        }
      ]
    },
    {
      "cell_type": "markdown",
      "metadata": {
        "id": "Z7RTYy5FLgHu",
        "colab_type": "text"
      },
      "source": [
        "## 1. 数据探索"
      ]
    },
    {
      "cell_type": "markdown",
      "metadata": {
        "id": "Aq9a3bwPLkVl",
        "colab_type": "text"
      },
      "source": [
        "### 1.1 读取train_part.csv数据，并查看基本信息"
      ]
    },
    {
      "cell_type": "code",
      "metadata": {
        "id": "_OTolv4wKxqH",
        "colab_type": "code",
        "colab": {}
      },
      "source": [
        "import pandas as pd\n",
        "import numpy as np\n",
        "import seaborn as sns\n",
        "import matplotlib.pyplot as plt\n",
        "%matplotlib inline"
      ],
      "execution_count": 0,
      "outputs": []
    },
    {
      "cell_type": "code",
      "metadata": {
        "id": "JCF4PtdDNTwZ",
        "colab_type": "code",
        "colab": {}
      },
      "source": [
        "data_part_path = \"./data/train_part.csv\"\n",
        "train_data = pd.read_csv(data_part_path)"
      ],
      "execution_count": 0,
      "outputs": []
    },
    {
      "cell_type": "code",
      "metadata": {
        "id": "fxrIbKXDNa9V",
        "colab_type": "code",
        "colab": {
          "base_uri": "https://localhost:8080/",
          "height": 224
        },
        "outputId": "c08313e2-4c17-41eb-a6f4-d228e519860d"
      },
      "source": [
        "train_data.head()"
      ],
      "execution_count": 6,
      "outputs": [
        {
          "output_type": "execute_result",
          "data": {
            "text/html": [
              "<div>\n",
              "<style scoped>\n",
              "    .dataframe tbody tr th:only-of-type {\n",
              "        vertical-align: middle;\n",
              "    }\n",
              "\n",
              "    .dataframe tbody tr th {\n",
              "        vertical-align: top;\n",
              "    }\n",
              "\n",
              "    .dataframe thead th {\n",
              "        text-align: right;\n",
              "    }\n",
              "</style>\n",
              "<table border=\"1\" class=\"dataframe\">\n",
              "  <thead>\n",
              "    <tr style=\"text-align: right;\">\n",
              "      <th></th>\n",
              "      <th>id</th>\n",
              "      <th>click</th>\n",
              "      <th>hour</th>\n",
              "      <th>C1</th>\n",
              "      <th>banner_pos</th>\n",
              "      <th>site_id</th>\n",
              "      <th>site_domain</th>\n",
              "      <th>site_category</th>\n",
              "      <th>app_id</th>\n",
              "      <th>app_domain</th>\n",
              "      <th>app_category</th>\n",
              "      <th>device_id</th>\n",
              "      <th>device_ip</th>\n",
              "      <th>device_model</th>\n",
              "      <th>device_type</th>\n",
              "      <th>device_conn_type</th>\n",
              "      <th>C14</th>\n",
              "      <th>C15</th>\n",
              "      <th>C16</th>\n",
              "      <th>C17</th>\n",
              "      <th>C18</th>\n",
              "      <th>C19</th>\n",
              "      <th>C20</th>\n",
              "      <th>C21</th>\n",
              "    </tr>\n",
              "  </thead>\n",
              "  <tbody>\n",
              "    <tr>\n",
              "      <th>0</th>\n",
              "      <td>1000009418151094273</td>\n",
              "      <td>0</td>\n",
              "      <td>14102100</td>\n",
              "      <td>1005</td>\n",
              "      <td>0</td>\n",
              "      <td>1fbe01fe</td>\n",
              "      <td>f3845767</td>\n",
              "      <td>28905ebd</td>\n",
              "      <td>ecad2386</td>\n",
              "      <td>7801e8d9</td>\n",
              "      <td>07d7df22</td>\n",
              "      <td>a99f214a</td>\n",
              "      <td>ddd2926e</td>\n",
              "      <td>44956a24</td>\n",
              "      <td>1</td>\n",
              "      <td>2</td>\n",
              "      <td>15706</td>\n",
              "      <td>320</td>\n",
              "      <td>50</td>\n",
              "      <td>1722</td>\n",
              "      <td>0</td>\n",
              "      <td>35</td>\n",
              "      <td>-1</td>\n",
              "      <td>79</td>\n",
              "    </tr>\n",
              "    <tr>\n",
              "      <th>1</th>\n",
              "      <td>10000169349117863715</td>\n",
              "      <td>0</td>\n",
              "      <td>14102100</td>\n",
              "      <td>1005</td>\n",
              "      <td>0</td>\n",
              "      <td>1fbe01fe</td>\n",
              "      <td>f3845767</td>\n",
              "      <td>28905ebd</td>\n",
              "      <td>ecad2386</td>\n",
              "      <td>7801e8d9</td>\n",
              "      <td>07d7df22</td>\n",
              "      <td>a99f214a</td>\n",
              "      <td>96809ac8</td>\n",
              "      <td>711ee120</td>\n",
              "      <td>1</td>\n",
              "      <td>0</td>\n",
              "      <td>15704</td>\n",
              "      <td>320</td>\n",
              "      <td>50</td>\n",
              "      <td>1722</td>\n",
              "      <td>0</td>\n",
              "      <td>35</td>\n",
              "      <td>100084</td>\n",
              "      <td>79</td>\n",
              "    </tr>\n",
              "    <tr>\n",
              "      <th>2</th>\n",
              "      <td>10000371904215119486</td>\n",
              "      <td>0</td>\n",
              "      <td>14102100</td>\n",
              "      <td>1005</td>\n",
              "      <td>0</td>\n",
              "      <td>1fbe01fe</td>\n",
              "      <td>f3845767</td>\n",
              "      <td>28905ebd</td>\n",
              "      <td>ecad2386</td>\n",
              "      <td>7801e8d9</td>\n",
              "      <td>07d7df22</td>\n",
              "      <td>a99f214a</td>\n",
              "      <td>b3cf8def</td>\n",
              "      <td>8a4875bd</td>\n",
              "      <td>1</td>\n",
              "      <td>0</td>\n",
              "      <td>15704</td>\n",
              "      <td>320</td>\n",
              "      <td>50</td>\n",
              "      <td>1722</td>\n",
              "      <td>0</td>\n",
              "      <td>35</td>\n",
              "      <td>100084</td>\n",
              "      <td>79</td>\n",
              "    </tr>\n",
              "    <tr>\n",
              "      <th>3</th>\n",
              "      <td>10000640724480838376</td>\n",
              "      <td>0</td>\n",
              "      <td>14102100</td>\n",
              "      <td>1005</td>\n",
              "      <td>0</td>\n",
              "      <td>1fbe01fe</td>\n",
              "      <td>f3845767</td>\n",
              "      <td>28905ebd</td>\n",
              "      <td>ecad2386</td>\n",
              "      <td>7801e8d9</td>\n",
              "      <td>07d7df22</td>\n",
              "      <td>a99f214a</td>\n",
              "      <td>e8275b8f</td>\n",
              "      <td>6332421a</td>\n",
              "      <td>1</td>\n",
              "      <td>0</td>\n",
              "      <td>15706</td>\n",
              "      <td>320</td>\n",
              "      <td>50</td>\n",
              "      <td>1722</td>\n",
              "      <td>0</td>\n",
              "      <td>35</td>\n",
              "      <td>100084</td>\n",
              "      <td>79</td>\n",
              "    </tr>\n",
              "    <tr>\n",
              "      <th>4</th>\n",
              "      <td>10000679056417042096</td>\n",
              "      <td>0</td>\n",
              "      <td>14102100</td>\n",
              "      <td>1005</td>\n",
              "      <td>1</td>\n",
              "      <td>fe8cc448</td>\n",
              "      <td>9166c161</td>\n",
              "      <td>0569f928</td>\n",
              "      <td>ecad2386</td>\n",
              "      <td>7801e8d9</td>\n",
              "      <td>07d7df22</td>\n",
              "      <td>a99f214a</td>\n",
              "      <td>9644d0bf</td>\n",
              "      <td>779d90c2</td>\n",
              "      <td>1</td>\n",
              "      <td>0</td>\n",
              "      <td>18993</td>\n",
              "      <td>320</td>\n",
              "      <td>50</td>\n",
              "      <td>2161</td>\n",
              "      <td>0</td>\n",
              "      <td>35</td>\n",
              "      <td>-1</td>\n",
              "      <td>157</td>\n",
              "    </tr>\n",
              "  </tbody>\n",
              "</table>\n",
              "</div>"
            ],
            "text/plain": [
              "                     id  click      hour    C1  ...  C18 C19     C20  C21\n",
              "0   1000009418151094273      0  14102100  1005  ...    0  35      -1   79\n",
              "1  10000169349117863715      0  14102100  1005  ...    0  35  100084   79\n",
              "2  10000371904215119486      0  14102100  1005  ...    0  35  100084   79\n",
              "3  10000640724480838376      0  14102100  1005  ...    0  35  100084   79\n",
              "4  10000679056417042096      0  14102100  1005  ...    0  35      -1  157\n",
              "\n",
              "[5 rows x 24 columns]"
            ]
          },
          "metadata": {
            "tags": []
          },
          "execution_count": 6
        }
      ]
    },
    {
      "cell_type": "code",
      "metadata": {
        "id": "RUsxx-1uNgPR",
        "colab_type": "code",
        "colab": {
          "base_uri": "https://localhost:8080/",
          "height": 539
        },
        "outputId": "872c6dd7-39b3-4635-f7d7-16211767c1e5"
      },
      "source": [
        "train_data.info()"
      ],
      "execution_count": 7,
      "outputs": [
        {
          "output_type": "stream",
          "text": [
            "<class 'pandas.core.frame.DataFrame'>\n",
            "RangeIndex: 10000 entries, 0 to 9999\n",
            "Data columns (total 24 columns):\n",
            "id                  10000 non-null uint64\n",
            "click               10000 non-null int64\n",
            "hour                10000 non-null int64\n",
            "C1                  10000 non-null int64\n",
            "banner_pos          10000 non-null int64\n",
            "site_id             10000 non-null object\n",
            "site_domain         10000 non-null object\n",
            "site_category       10000 non-null object\n",
            "app_id              10000 non-null object\n",
            "app_domain          10000 non-null object\n",
            "app_category        10000 non-null object\n",
            "device_id           10000 non-null object\n",
            "device_ip           10000 non-null object\n",
            "device_model        10000 non-null object\n",
            "device_type         10000 non-null int64\n",
            "device_conn_type    10000 non-null int64\n",
            "C14                 10000 non-null int64\n",
            "C15                 10000 non-null int64\n",
            "C16                 10000 non-null int64\n",
            "C17                 10000 non-null int64\n",
            "C18                 10000 non-null int64\n",
            "C19                 10000 non-null int64\n",
            "C20                 10000 non-null int64\n",
            "C21                 10000 non-null int64\n",
            "dtypes: int64(14), object(9), uint64(1)\n",
            "memory usage: 1.8+ MB\n"
          ],
          "name": "stdout"
        }
      ]
    },
    {
      "cell_type": "markdown",
      "metadata": {
        "id": "YKv5InRMNiaD",
        "colab_type": "text"
      },
      "source": [
        "共计有24列，其中click列为标签，其他列均为特征；在特征列中，int64类型有14列，object类型有9列，uint64类型有1列(id，属于无意义的列)"
      ]
    },
    {
      "cell_type": "code",
      "metadata": {
        "id": "Q1d09I4VN9lf",
        "colab_type": "code",
        "colab": {
          "base_uri": "https://localhost:8080/",
          "height": 317
        },
        "outputId": "67bbbc01-2c50-422e-90f9-d11b50b37b34"
      },
      "source": [
        "train_data.describe()"
      ],
      "execution_count": 8,
      "outputs": [
        {
          "output_type": "execute_result",
          "data": {
            "text/html": [
              "<div>\n",
              "<style scoped>\n",
              "    .dataframe tbody tr th:only-of-type {\n",
              "        vertical-align: middle;\n",
              "    }\n",
              "\n",
              "    .dataframe tbody tr th {\n",
              "        vertical-align: top;\n",
              "    }\n",
              "\n",
              "    .dataframe thead th {\n",
              "        text-align: right;\n",
              "    }\n",
              "</style>\n",
              "<table border=\"1\" class=\"dataframe\">\n",
              "  <thead>\n",
              "    <tr style=\"text-align: right;\">\n",
              "      <th></th>\n",
              "      <th>id</th>\n",
              "      <th>click</th>\n",
              "      <th>hour</th>\n",
              "      <th>C1</th>\n",
              "      <th>banner_pos</th>\n",
              "      <th>device_type</th>\n",
              "      <th>device_conn_type</th>\n",
              "      <th>C14</th>\n",
              "      <th>C15</th>\n",
              "      <th>C16</th>\n",
              "      <th>C17</th>\n",
              "      <th>C18</th>\n",
              "      <th>C19</th>\n",
              "      <th>C20</th>\n",
              "      <th>C21</th>\n",
              "    </tr>\n",
              "  </thead>\n",
              "  <tbody>\n",
              "    <tr>\n",
              "      <th>count</th>\n",
              "      <td>1.000000e+04</td>\n",
              "      <td>10000.000000</td>\n",
              "      <td>10000.0</td>\n",
              "      <td>10000.000000</td>\n",
              "      <td>10000.000000</td>\n",
              "      <td>10000.000000</td>\n",
              "      <td>10000.000000</td>\n",
              "      <td>10000.000000</td>\n",
              "      <td>10000.000000</td>\n",
              "      <td>10000.000000</td>\n",
              "      <td>10000.000000</td>\n",
              "      <td>10000.000000</td>\n",
              "      <td>10000.000000</td>\n",
              "      <td>10000.000000</td>\n",
              "      <td>10000.000000</td>\n",
              "    </tr>\n",
              "    <tr>\n",
              "      <th>mean</th>\n",
              "      <td>9.795641e+18</td>\n",
              "      <td>0.170600</td>\n",
              "      <td>14102100.0</td>\n",
              "      <td>1005.059900</td>\n",
              "      <td>0.195900</td>\n",
              "      <td>1.068200</td>\n",
              "      <td>0.204500</td>\n",
              "      <td>17711.693800</td>\n",
              "      <td>318.478000</td>\n",
              "      <td>56.986400</td>\n",
              "      <td>1967.605900</td>\n",
              "      <td>0.789500</td>\n",
              "      <td>125.622400</td>\n",
              "      <td>37746.299500</td>\n",
              "      <td>88.260300</td>\n",
              "    </tr>\n",
              "    <tr>\n",
              "      <th>std</th>\n",
              "      <td>2.853038e+18</td>\n",
              "      <td>0.376178</td>\n",
              "      <td>0.0</td>\n",
              "      <td>1.103193</td>\n",
              "      <td>0.404895</td>\n",
              "      <td>0.601984</td>\n",
              "      <td>0.646469</td>\n",
              "      <td>3139.296362</td>\n",
              "      <td>11.492429</td>\n",
              "      <td>37.425508</td>\n",
              "      <td>385.160315</td>\n",
              "      <td>1.228878</td>\n",
              "      <td>234.039047</td>\n",
              "      <td>48516.401341</td>\n",
              "      <td>45.153569</td>\n",
              "    </tr>\n",
              "    <tr>\n",
              "      <th>min</th>\n",
              "      <td>1.004777e+16</td>\n",
              "      <td>0.000000</td>\n",
              "      <td>14102100.0</td>\n",
              "      <td>1001.000000</td>\n",
              "      <td>0.000000</td>\n",
              "      <td>0.000000</td>\n",
              "      <td>0.000000</td>\n",
              "      <td>375.000000</td>\n",
              "      <td>216.000000</td>\n",
              "      <td>36.000000</td>\n",
              "      <td>112.000000</td>\n",
              "      <td>0.000000</td>\n",
              "      <td>35.000000</td>\n",
              "      <td>-1.000000</td>\n",
              "      <td>13.000000</td>\n",
              "    </tr>\n",
              "    <tr>\n",
              "      <th>25%</th>\n",
              "      <td>1.024754e+19</td>\n",
              "      <td>0.000000</td>\n",
              "      <td>14102100.0</td>\n",
              "      <td>1005.000000</td>\n",
              "      <td>0.000000</td>\n",
              "      <td>1.000000</td>\n",
              "      <td>0.000000</td>\n",
              "      <td>15704.000000</td>\n",
              "      <td>320.000000</td>\n",
              "      <td>50.000000</td>\n",
              "      <td>1722.000000</td>\n",
              "      <td>0.000000</td>\n",
              "      <td>35.000000</td>\n",
              "      <td>-1.000000</td>\n",
              "      <td>61.000000</td>\n",
              "    </tr>\n",
              "    <tr>\n",
              "      <th>50%</th>\n",
              "      <td>1.063018e+19</td>\n",
              "      <td>0.000000</td>\n",
              "      <td>14102100.0</td>\n",
              "      <td>1005.000000</td>\n",
              "      <td>0.000000</td>\n",
              "      <td>1.000000</td>\n",
              "      <td>0.000000</td>\n",
              "      <td>17654.000000</td>\n",
              "      <td>320.000000</td>\n",
              "      <td>50.000000</td>\n",
              "      <td>1993.000000</td>\n",
              "      <td>0.000000</td>\n",
              "      <td>35.000000</td>\n",
              "      <td>-1.000000</td>\n",
              "      <td>79.000000</td>\n",
              "    </tr>\n",
              "    <tr>\n",
              "      <th>75%</th>\n",
              "      <td>1.100749e+19</td>\n",
              "      <td>0.000000</td>\n",
              "      <td>14102100.0</td>\n",
              "      <td>1005.000000</td>\n",
              "      <td>0.000000</td>\n",
              "      <td>1.000000</td>\n",
              "      <td>0.000000</td>\n",
              "      <td>20362.000000</td>\n",
              "      <td>320.000000</td>\n",
              "      <td>50.000000</td>\n",
              "      <td>2307.000000</td>\n",
              "      <td>2.000000</td>\n",
              "      <td>39.000000</td>\n",
              "      <td>100083.000000</td>\n",
              "      <td>117.000000</td>\n",
              "    </tr>\n",
              "    <tr>\n",
              "      <th>max</th>\n",
              "      <td>1.138513e+19</td>\n",
              "      <td>1.000000</td>\n",
              "      <td>14102100.0</td>\n",
              "      <td>1010.000000</td>\n",
              "      <td>5.000000</td>\n",
              "      <td>5.000000</td>\n",
              "      <td>5.000000</td>\n",
              "      <td>21705.000000</td>\n",
              "      <td>728.000000</td>\n",
              "      <td>480.000000</td>\n",
              "      <td>2497.000000</td>\n",
              "      <td>3.000000</td>\n",
              "      <td>1835.000000</td>\n",
              "      <td>100248.000000</td>\n",
              "      <td>157.000000</td>\n",
              "    </tr>\n",
              "  </tbody>\n",
              "</table>\n",
              "</div>"
            ],
            "text/plain": [
              "                 id         click  ...            C20           C21\n",
              "count  1.000000e+04  10000.000000  ...   10000.000000  10000.000000\n",
              "mean   9.795641e+18      0.170600  ...   37746.299500     88.260300\n",
              "std    2.853038e+18      0.376178  ...   48516.401341     45.153569\n",
              "min    1.004777e+16      0.000000  ...      -1.000000     13.000000\n",
              "25%    1.024754e+19      0.000000  ...      -1.000000     61.000000\n",
              "50%    1.063018e+19      0.000000  ...      -1.000000     79.000000\n",
              "75%    1.100749e+19      0.000000  ...  100083.000000    117.000000\n",
              "max    1.138513e+19      1.000000  ...  100248.000000    157.000000\n",
              "\n",
              "[8 rows x 15 columns]"
            ]
          },
          "metadata": {
            "tags": []
          },
          "execution_count": 8
        }
      ]
    },
    {
      "cell_type": "markdown",
      "metadata": {
        "id": "9pTItqTUOCVG",
        "colab_type": "text"
      },
      "source": [
        "从统计信息里可以看出：\n",
        "+ click,banner_pos,device_conn_type的分位数均为0，说明是稀疏的，只有少量非零值；\n",
        "+ hour均为同一取值，可能原始数据是按照时序排列的，所以只取头部数据，可能会忽略hour这个特征；\n",
        "+ C14~C21列的方差都比较大, 说明取值离散性比较大；\n",
        "+ device_type的分位数均为1.000000,说明大部分样本的device_type取值都集中在取值1上，其他的取值较少。"
      ]
    },
    {
      "cell_type": "markdown",
      "metadata": {
        "id": "CCvFfjciPxdb",
        "colab_type": "text"
      },
      "source": [
        "### 1.2 观察类别型特征的统计数据"
      ]
    },
    {
      "cell_type": "code",
      "metadata": {
        "id": "3znRYZawP74U",
        "colab_type": "code",
        "colab": {
          "base_uri": "https://localhost:8080/",
          "height": 71
        },
        "outputId": "b751364a-67e8-4317-fdea-868a7e21f10d"
      },
      "source": [
        "train_data.click.value_counts()"
      ],
      "execution_count": 9,
      "outputs": [
        {
          "output_type": "execute_result",
          "data": {
            "text/plain": [
              "0    8294\n",
              "1    1706\n",
              "Name: click, dtype: int64"
            ]
          },
          "metadata": {
            "tags": []
          },
          "execution_count": 9
        }
      ]
    },
    {
      "cell_type": "markdown",
      "metadata": {
        "id": "TGEscqzSQTj9",
        "colab_type": "text"
      },
      "source": [
        "10000个样本里，只有1706个click=1，剩余的都是未被点击过的"
      ]
    },
    {
      "cell_type": "code",
      "metadata": {
        "id": "FnjoJ9kHQeCo",
        "colab_type": "code",
        "colab": {
          "base_uri": "https://localhost:8080/",
          "height": 35
        },
        "outputId": "9f8100e5-c370-4a79-d77e-2a6377ed5571"
      },
      "source": [
        "c_name_list = [\"C1\"]\n",
        "for i in range(14, 22):\n",
        "  c_name_list.append(\"C{}\".format(i))\n",
        "c_name_list"
      ],
      "execution_count": 10,
      "outputs": [
        {
          "output_type": "execute_result",
          "data": {
            "text/plain": [
              "['C1', 'C14', 'C15', 'C16', 'C17', 'C18', 'C19', 'C20', 'C21']"
            ]
          },
          "metadata": {
            "tags": []
          },
          "execution_count": 10
        }
      ]
    },
    {
      "cell_type": "code",
      "metadata": {
        "id": "S_k8tjG3Q8Lg",
        "colab_type": "code",
        "colab": {
          "base_uri": "https://localhost:8080/",
          "height": 407
        },
        "outputId": "ea67064b-4b68-45c2-c10b-9dcf1cadfc63"
      },
      "source": [
        "for c_name in c_name_list:\n",
        "  value_count_data = train_data[c_name].value_counts()\n",
        "  value_series = pd.Series(value_count_data.index.values, name=\"value\")\n",
        "  count_series = pd.Series(value_count_data.values, name=\"count\")\n",
        "  each_c_df = pd.concat([value_series, count_series], axis=1)\n",
        "  each_c_df.hist(column=\"value\", grid=False, bins=40)\n",
        "  print(each_c_df)\n",
        "  break"
      ],
      "execution_count": 12,
      "outputs": [
        {
          "output_type": "stream",
          "text": [
            "   value  count\n",
            "0   1005   9256\n",
            "1   1002    381\n",
            "2   1010    346\n",
            "3   1007     11\n",
            "4   1001      4\n",
            "5   1008      2\n"
          ],
          "name": "stdout"
        },
        {
          "output_type": "display_data",
          "data": {
            "image/png": "[encoded data removed]",
            "text/plain": [
              "<Figure size 432x288 with 1 Axes>"
            ]
          },
          "metadata": {
            "tags": []
          }
        }
      ]
    }
  ]
}